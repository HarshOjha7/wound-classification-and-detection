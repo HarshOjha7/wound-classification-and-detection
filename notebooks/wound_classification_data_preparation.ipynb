{
  "cells": [
    {
      "cell_type": "code",
      "execution_count": null,
      "metadata": {
        "colab": {
          "base_uri": "https://localhost:8080/"
        },
        "id": "tTUbcOUfHWHB",
        "outputId": "c120947b-b54d-4a0d-e47c-7e2c0b3e76e7"
      },
      "outputs": [
        {
          "name": "stdout",
          "output_type": "stream",
          "text": [
            "\u001b[31mERROR: Operation cancelled by user\u001b[0m\u001b[31m\n",
            "\u001b[2K     \u001b[90m━━━━━━━━━━━━━━━━━━━━━━━━━━━━━━━━━━━━━━━━\u001b[0m \u001b[32m75.6/75.6 kB\u001b[0m \u001b[31m4.6 MB/s\u001b[0m eta \u001b[36m0:00:00\u001b[0m\n",
            "\u001b[2K     \u001b[90m━━━━━━━━━━━━━━━━━━━━━━━━━━━━━━━━━━━━━━━━\u001b[0m \u001b[32m77.9/77.9 kB\u001b[0m \u001b[31m6.2 MB/s\u001b[0m eta \u001b[36m0:00:00\u001b[0m\n",
            "\u001b[2K     \u001b[90m━━━━━━━━━━━━━━━━━━━━━━━━━━━━━━━━━━━━━━━━\u001b[0m \u001b[32m3.0/3.0 MB\u001b[0m \u001b[31m18.8 MB/s\u001b[0m eta \u001b[36m0:00:00\u001b[0m\n",
            "\u001b[2K     \u001b[90m━━━━━━━━━━━━━━━━━━━━━━━━━━━━━━━━━━━━━━━━\u001b[0m \u001b[32m57.5/57.5 kB\u001b[0m \u001b[31m6.0 MB/s\u001b[0m eta \u001b[36m0:00:00\u001b[0m\n",
            "\u001b[2K     \u001b[90m━━━━━━━━━━━━━━━━━━━━━━━━━━━━━━━━━━━━━━━━\u001b[0m \u001b[32m58.3/58.3 kB\u001b[0m \u001b[31m7.1 MB/s\u001b[0m eta \u001b[36m0:00:00\u001b[0m\n",
            "\u001b[?25h"
          ]
        }
      ],
      "source": [
        "#fastai\n",
        "!pip install -q fastbook==0.0.29\n",
        "\n",
        "# #DuckDuckGo Search API\n",
        "!pip install -q duckduckgo_search==5.3.0b4"
      ]
    },
    {
      "cell_type": "code",
      "execution_count": null,
      "metadata": {
        "colab": {
          "base_uri": "https://localhost:8080/"
        },
        "id": "zyCGOvzx0udh",
        "outputId": "f2623c23-bbce-45f2-90d7-e5c09209011b"
      },
      "outputs": [
        {
          "name": "stdout",
          "output_type": "stream",
          "text": [
            "Drive already mounted at /content/drive; to attempt to forcibly remount, call drive.mount(\"/content/drive\", force_remount=True).\n"
          ]
        }
      ],
      "source": [
        "from google.colab import drive\n",
        "drive.mount('/content/drive')"
      ]
    },
    {
      "cell_type": "markdown",
      "metadata": {
        "id": "xk2N7EwRZk5l"
      },
      "source": [
        "#Data collection and cleaning"
      ]
    },
    {
      "cell_type": "markdown",
      "metadata": {
        "id": "o8KSzkP8wyKP"
      },
      "source": [
        "##Web scraping"
      ]
    },
    {
      "cell_type": "code",
      "execution_count": null,
      "metadata": {
        "id": "q-vpJmdlJP-M"
      },
      "outputs": [],
      "source": [
        "from fastbook import *\n",
        "from fastai.vision.widgets import *\n",
        "from tqdm.auto import tqdm\n",
        "from duckduckgo_search import DDGS\n",
        "\n",
        "#download from duckduckgo\n",
        "def search_images_ddg(key, max_n=200):\n",
        "     \"\"\"Search for 'key' with DuckDuckGo and return a unique urls of 'max_n' images\n",
        "        (Adopted from https://github.com/deepanprabhu/duckduckgo-images-api)\n",
        "     \"\"\"\n",
        "     url        = 'https://duckduckgo.com/'\n",
        "     params     = {'q':key}\n",
        "     res        = requests.post(url,data=params)\n",
        "     searchObj  = re.search(r'vqd=([\\d-]+)\\&',res.text)\n",
        "     if not searchObj: print('Token Parsing Failed !'); return\n",
        "     requestUrl = url + 'i.js'\n",
        "     headers    = {'User-Agent': 'Mozilla/5.0 (X11; Ubuntu; Linux x86_64; rv:71.0) Gecko/20100101 Firefox/71.0'}\n",
        "     params     = (('l','us-en'),('o','json'),('q',key),('vqd',searchObj.group(1)),('f',',,,'),('p','1'),('v7exp','a'))\n",
        "     urls       = []\n",
        "     while True:\n",
        "         try:\n",
        "             res  = requests.get(requestUrl,headers=headers,params=params)\n",
        "             data = json.loads(res.text)\n",
        "             for obj in data['results']:\n",
        "                 urls.append(obj['image'])\n",
        "                 max_n = max_n - 1\n",
        "                 if max_n < 1: return L(set(urls))     # dedupe\n",
        "             if 'next' not in data: return L(set(urls))\n",
        "             requestUrl = url + data['next']\n",
        "         except:\n",
        "             pass\n",
        "\n",
        "def search_images_ddg_v2(key,max_n=200):\n",
        "    \"\"\"Search for 'key' with DuckDuckGo and return a unique urls of 'max_n' images\n",
        "        Note: Instead of using our own implementation, we using library instead!\n",
        "    \"\"\"\n",
        "    responses = DDGS().images(\n",
        "                          keywords=key,\n",
        "                          region=\"wt-wt\",\n",
        "                          safesearch=\"off\",\n",
        "                          size=None,\n",
        "                          color=None,\n",
        "                          type_image=None,\n",
        "                          layout=None,\n",
        "                          license_image=None,\n",
        "                          max_results=max_n,\n",
        "                      )\n",
        "    urls = [ r['image'] for r in responses ]\n",
        "    return urls"
      ]
    },
    {
      "cell_type": "code",
      "execution_count": null,
      "metadata": {
        "colab": {
          "base_uri": "https://localhost:8080/",
          "height": 104,
          "referenced_widgets": [
            "e651cef131684828b75af9d0c46808b4",
            "459b95e12a0944b9bcf1c1cd970adbf8",
            "bf48a08c0cc64219b5c92bdea5a3e77a",
            "dd67c225a01f406f87b695b949b90db4",
            "c5ae910802464bfbb00d5d93da2b8004",
            "097a1edb6a2c4f07ac07554a44720b8a",
            "1f9e767f5dbe4ff584aac8830e383975",
            "ecbfc08f4929441084d304477e2e9069",
            "44e9b8c7166f4ef1ae6d7f730f37d02b",
            "405120281d4a4d13b060d39f0857d16b",
            "14ef5ea94100491883764f8120333423"
          ]
        },
        "id": "7XnSbpaWoUxL",
        "outputId": "cf035b23-23f9-4701-85a2-086a75ea27fc"
      },
      "outputs": [
        {
          "data": {
            "application/vnd.jupyter.widget-view+json": {
              "model_id": "e651cef131684828b75af9d0c46808b4",
              "version_major": 2,
              "version_minor": 0
            },
            "text/plain": [
              "  0%|          | 0/1 [00:00<?, ?it/s]"
            ]
          },
          "metadata": {},
          "output_type": "display_data"
        },
        {
          "name": "stderr",
          "output_type": "stream",
          "text": [
            "/usr/lib/python3.10/multiprocessing/popen_fork.py:66: RuntimeWarning: os.fork() was called. os.fork() is incompatible with multithreaded code, and JAX is multithreaded, so this will likely lead to a deadlock.\n",
            "  self.pid = os.fork()\n"
          ]
        }
      ],
      "source": [
        "#save \n",
        "path = Path('images')\n",
        "\n",
        "labels =  ['puncture wound']\n",
        "\n",
        "#เอา label\n",
        "MAX_N = 500\n",
        "\n",
        "if not path.exists():\n",
        "    path.mkdir()\n",
        "for l in tqdm(labels):\n",
        "    dest = (path/l)\n",
        "    dest.mkdir(exist_ok=True)\n",
        "    results = search_images_ddg_v2(l, max_n=MAX_N)\n",
        "    download_images(dest, urls=results)"
      ]
    },
    {
      "cell_type": "code",
      "execution_count": null,
      "metadata": {
        "id": "fMg_FEDwJe8v"
      },
      "outputs": [],
      "source": [
        "#เช็คว่าได้รูปอะไรบ้าง\n",
        "fns = get_image_files(path)\n",
        "fns"
      ]
    },
    {
      "cell_type": "code",
      "execution_count": null,
      "metadata": {
        "colab": {
          "base_uri": "https://localhost:8080/"
        },
        "id": "kYy_w5zmofz1",
        "outputId": "920c5beb-f786-4b9d-d2c0-cf09994cc0a8"
      },
      "outputs": [
        {
          "data": {
            "text/plain": [
              "(#3) [Path('images/puncture wound/cf2fe9c3-6a76-4127-b314-5484fec4a09d.jpg'),Path('images/puncture wound/32404100-a7c5-4c47-b249-2c2422907408.jpg'),Path('images/puncture wound/12a47094-08a3-4d43-8bab-6c83ec9da0b6.jpg')]"
            ]
          },
          "execution_count": 15,
          "metadata": {},
          "output_type": "execute_result"
        }
      ],
      "source": [
        "#ดูว่าหารูปไหนไม่เจอบ้าง\n",
        "failed = verify_images(fns)\n",
        "failed"
      ]
    },
    {
      "cell_type": "code",
      "execution_count": null,
      "metadata": {
        "colab": {
          "base_uri": "https://localhost:8080/"
        },
        "id": "LxoZU7tjoiHT",
        "outputId": "8828dee4-2100-4f5c-a6dd-46173e6dc777"
      },
      "outputs": [
        {
          "data": {
            "text/plain": [
              "(#7) [None,None,None,None,None,None,None]"
            ]
          },
          "execution_count": 13,
          "metadata": {},
          "output_type": "execute_result"
        }
      ],
      "source": [
        "#นำรูปที่หาไม่เจอออก\n",
        "failed.map(Path.unlink)"
      ]
    },
    {
      "cell_type": "code",
      "execution_count": null,
      "metadata": {
        "id": "faHVzfzs3OxS"
      },
      "outputs": [],
      "source": [
        "!zip -r /content/images.zip /content/images"
      ]
    },
    {
      "cell_type": "markdown",
      "metadata": {
        "id": "77PV_K95qHMN"
      },
      "source": [
        "##Data spiltting"
      ]
    },
    {
      "cell_type": "code",
      "execution_count": null,
      "metadata": {
        "colab": {
          "base_uri": "https://localhost:8080/"
        },
        "id": "s93Zv5szpnlG",
        "outputId": "a77d702d-9d5f-48d3-905c-8ab6ba638e82"
      },
      "outputs": [
        {
          "name": "stdout",
          "output_type": "stream",
          "text": [
            "Collecting split-folders\n",
            "  Downloading split_folders-0.5.1-py3-none-any.whl (8.4 kB)\n",
            "Installing collected packages: split-folders\n",
            "Successfully installed split-folders-0.5.1\n"
          ]
        }
      ],
      "source": [
        "!pip install split-folders"
      ]
    },
    {
      "cell_type": "code",
      "execution_count": null,
      "metadata": {
        "colab": {
          "base_uri": "https://localhost:8080/"
        },
        "id": "wh94pRISpea7",
        "outputId": "267fd456-ffe1-47f5-eb86-b2204efe7bb6"
      },
      "outputs": [
        {
          "name": "stdout",
          "output_type": "stream",
          "text": [
            "['bruises wound', 'burn wound', 'cut wound', 'laceration wound', 'abrasion wound', 'Stab_wound']\n"
          ]
        }
      ],
      "source": [
        "import splitfolders\n",
        "import os\n",
        "path = '/content/dataset'\n",
        "print(os.listdir(path))"
      ]
    },
    {
      "cell_type": "code",
      "execution_count": null,
      "metadata": {
        "colab": {
          "base_uri": "https://localhost:8080/"
        },
        "id": "y1X9540wqDyj",
        "outputId": "d6ebe83b-86b2-4a3f-a278-3d24d9c80346"
      },
      "outputs": [
        {
          "name": "stderr",
          "output_type": "stream",
          "text": [
            "Copying files: 870 files [00:00, 5353.78 files/s]\n"
          ]
        }
      ],
      "source": [
        "splitfolders.ratio(path,seed=1337, output=\"splitted_dataset\", ratio=(0.8, 0.1, 0.1))"
      ]
    },
    {
      "cell_type": "code",
      "execution_count": null,
      "metadata": {
        "id": "_-OJkPxJsBRv"
      },
      "outputs": [],
      "source": [
        "!zip -r /content/splitted_dataset.zip /content/splitted_dataset"
      ]
    },
    {
      "cell_type": "markdown",
      "metadata": {
        "id": "2vQPJuovwXKc"
      },
      "source": [
        "#Data augmentation"
      ]
    },
    {
      "cell_type": "markdown",
      "metadata": {
        "id": "VFW9FC9GKATj"
      },
      "source": [
        "###Upsamling"
      ]
    },
    {
      "cell_type": "markdown",
      "metadata": {
        "id": "1YLi0k8KNIjK"
      },
      "source": [
        "https://www.alirookie.com/post/computer-vision-data-augmentation-code-sample"
      ]
    },
    {
      "cell_type": "code",
      "execution_count": null,
      "metadata": {
        "id": "JX--WRrTPBVt"
      },
      "outputs": [],
      "source": [
        "!unzip /content/06train.zip -d data"
      ]
    },
    {
      "cell_type": "code",
      "execution_count": null,
      "metadata": {
        "id": "-dN1b1WINKFI"
      },
      "outputs": [],
      "source": [
        "import os\n",
        "import cv2\n",
        "import imageio\n",
        "import numpy as np\n",
        "import imgaug as ia\n",
        "import imgaug.augmenters as iaa\n",
        "from PIL import Image\n",
        "from datetime import datetime\n",
        "from imgaug.augmentables.batches import UnnormalizedBatch"
      ]
    },
    {
      "cell_type": "code",
      "execution_count": null,
      "metadata": {
        "id": "1sllqGfgLeLf"
      },
      "outputs": [],
      "source": [
        "def count_files_in_folder(folder):\n",
        "    files_count = len([name for name in os.listdir(folder) if os.path.isfile(os.path.join(folder, name))])\n",
        "    return files_count\n",
        "\n",
        "def save_image(image, folder):\n",
        "    if not os.path.exists(folder):\n",
        "        os.makedirs(folder)\n",
        "    image_counter = count_files_in_folder(folder) + 1\n",
        "    image_name = os.path.join(folder, f\"{image_counter}.jpg\")\n",
        "    image.save(image_name)\n",
        "\n",
        "def get_files_in_folder(folder):\n",
        "    return [os.path.join(folder, name) for name in os.listdir(folder) if os.path.isfile(os.path.join(folder, name))]\n",
        "\n",
        "def list_oversample(initial_list, max_size):\n",
        "    resized_array = []\n",
        "    initial_length = len(initial_list)\n",
        "    new_size = max_size - initial_length\n",
        "    print('need to add', str(new_size))\n",
        "    if new_size >= initial_length:\n",
        "        augment_rate = int(new_size/initial_length)\n",
        "        resized_array = initial_list * augment_rate\n",
        "    else:\n",
        "        resized_array = initial_list[:new_size]\n",
        "    return resized_array\n",
        "\n",
        "def save_image_array(image_array, folder):\n",
        "    for image in image_array:\n",
        "        # Convert RGBA images to RGB mode\n",
        "        if image.mode == 'RGBA':\n",
        "            image = image.convert('RGB')\n",
        "        save_image(image, folder)"
      ]
    },
    {
      "cell_type": "code",
      "execution_count": null,
      "metadata": {
        "id": "d0yP9S5JOtb6"
      },
      "outputs": [],
      "source": [
        "# ia.seed(42)\n",
        "\n",
        "# seq = iaa.Sequential([\n",
        "#     iaa.Fliplr(0.5),  # horizontal flips\n",
        "#     iaa.Crop(percent=(0, 0.1)),  # random crops\n",
        "#     iaa.Sometimes(0.5, iaa.GaussianBlur(sigma=(0, 0.5))),  # Gaussian blur\n",
        "#     iaa.LinearContrast((0.75, 1.5)),  # Contrast adjustment\n",
        "#     iaa.AdditiveGaussianNoise(loc=0, scale=(0.0, 0.05 * 255), per_channel=0.5),  # Gaussian noise\n",
        "#     iaa.Multiply((0.8, 1.2), per_channel=0.2),  # Brightness adjustment\n",
        "#     iaa.Affine(\n",
        "#         scale={\"x\": (0.8, 1.2), \"y\": (0.8, 1.2)},\n",
        "#         translate_percent={\"x\": (-0.2, 0.2), \"y\": (-0.2, 0.2)},\n",
        "#         rotate=(-25, 25),\n",
        "#         shear=(-8, 8)\n",
        "#     )  # Affine transformations\n",
        "# ], random_order=True)  # apply augmenters in random order"
      ]
    },
    {
      "cell_type": "code",
      "execution_count": null,
      "metadata": {
        "id": "Ltpr5fRPacxO"
      },
      "outputs": [],
      "source": [
        "import imgaug.augmenters as iaa\n",
        "\n",
        "def sometimes(probability, aug):\n",
        "  return iaa.Sometimes(probability, aug)\n",
        "\n",
        "ia.seed(42)\n",
        "\n",
        "crop_probability = 0.2\n",
        "affine_probability = 0.7\n",
        "\n",
        "seq = iaa.Sequential([\n",
        "  iaa.Fliplr(0.5),\n",
        "  iaa.Flipud(0.5),\n",
        "  iaa.Crop(percent=(0, 0.2)),\n",
        "\n",
        "  sometimes(crop_probability, iaa.CropToAspectRatio(9/16)),\n",
        "  sometimes(crop_probability, iaa.CropToAspectRatio(3/4)),\n",
        "  sometimes(crop_probability, iaa.CropToAspectRatio(2/3)),\n",
        "\n",
        "  sometimes(affine_probability, iaa.Affine(\n",
        "    scale={\"x\": (0.8, 1.2), \"y\": (0.8, 1.2)},\n",
        "    translate_percent={\"x\": (-0.2, 0.2), \"y\": (-0.2, 0.2)},\n",
        "    rotate=(-45, 45),\n",
        "    shear=(-16, 16),\n",
        "    order=[0, 1],\n",
        "    cval=(0, 255),\n",
        "    mode=ia.ALL\n",
        "  )),\n",
        "  iaa.Sharpen(alpha=(0, 0.3), lightness=(0.75, 1.5)),\n",
        "  iaa.LinearContrast((0.75, 1.5)),\n",
        "  iaa.AdditiveGaussianNoise(loc=0, scale=(0.0, 0.05 * 255), per_channel=0.5),\n",
        "  iaa.Multiply((0.8, 1.2), per_channel=0.2),\n",
        "], random_order=True)\n"
      ]
    },
    {
      "cell_type": "code",
      "execution_count": null,
      "metadata": {
        "id": "udqwZRnjwUnG"
      },
      "outputs": [],
      "source": [
        "IMAGE_FOLDER = '/content/data/train'\n",
        "image_subfolders = [os.path.join(IMAGE_FOLDER, subfolder) for subfolder in os.listdir(IMAGE_FOLDER)]\n",
        "max_image_count = max([count_files_in_folder(subfolder) for subfolder in image_subfolders])\n",
        "image_target_subfolders = [subfolder for subfolder in image_subfolders if count_files_in_folder(subfolder) < max_image_count]"
      ]
    },
    {
      "cell_type": "code",
      "execution_count": null,
      "metadata": {
        "colab": {
          "base_uri": "https://localhost:8080/"
        },
        "id": "Do8IMvb8a9mt",
        "outputId": "475aaf3a-06f4-42f3-d5b4-eed8eb975db1"
      },
      "outputs": [
        {
          "data": {
            "text/plain": [
              "[122, 81, 293, 48, 70, 80]"
            ]
          },
          "execution_count": 68,
          "metadata": {},
          "output_type": "execute_result"
        }
      ],
      "source": [
        "b4_count = [count_files_in_folder(subfolder) for subfolder in image_subfolders]\n",
        "b4_count"
      ]
    },
    {
      "cell_type": "code",
      "execution_count": null,
      "metadata": {
        "colab": {
          "base_uri": "https://localhost:8080/"
        },
        "id": "tJI9WbZAlOCC",
        "outputId": "676af688-1ffd-4ed5-8bf9-e91dbeddd94f"
      },
      "outputs": [
        {
          "name": "stdout",
          "output_type": "stream",
          "text": [
            "/content/data/train/bruises wound with 122 pic\n",
            "need to add 171\n",
            "at the end there is 244\n",
            "0 min 8 sec\n",
            "/content/data/train/abrasion wound with 81 pic\n",
            "need to add 212\n",
            "at the end there is 243\n",
            "0 min 8 sec\n",
            "/content/data/train/Stab_wound with 48 pic\n",
            "need to add 245\n",
            "at the end there is 288\n",
            "0 min 17 sec\n",
            "/content/data/train/cut wound with 70 pic\n",
            "need to add 223\n",
            "at the end there is 280\n",
            "0 min 10 sec\n",
            "/content/data/train/laceration wound with 80 pic\n",
            "need to add 213\n",
            "at the end there is 240\n",
            "0 min 8 sec\n"
          ]
        }
      ],
      "source": [
        "for subfolder in image_target_subfolders:\n",
        "    print(subfolder, 'with', str(count_files_in_folder(subfolder)), 'pic')\n",
        "    start_time = datetime.now()\n",
        "    image_files = get_files_in_folder(subfolder)\n",
        "    synthetic_image_files = list_oversample(image_files, max_image_count)\n",
        "    images = [np.array(Image.open(image_file)) for image_file in synthetic_image_files]\n",
        "    augmented_images = seq(images=images)\n",
        "    augmented_images = [Image.fromarray(image) for image in augmented_images]\n",
        "    save_image_array(augmented_images, subfolder)\n",
        "    print('at the end there is', str(count_files_in_folder(subfolder)))\n",
        "    end_time = datetime.now()\n",
        "    time_spent = end_time - start_time\n",
        "    spent_minutes, spent_seconds = divmod(time_spent.days * 86400 + time_spent.seconds, 60)\n",
        "    print(\"{} min {} sec\".format(spent_minutes, spent_seconds))\n"
      ]
    },
    {
      "cell_type": "code",
      "execution_count": null,
      "metadata": {
        "colab": {
          "base_uri": "https://localhost:8080/"
        },
        "id": "P6dr3O23pfO4",
        "outputId": "f15b7f85-f355-4e03-da0a-d40e9c36fd9f"
      },
      "outputs": [
        {
          "data": {
            "text/plain": [
              "[244, 243, 293, 288, 280, 240]"
            ]
          },
          "execution_count": 70,
          "metadata": {},
          "output_type": "execute_result"
        }
      ],
      "source": [
        "[count_files_in_folder(subfolder) for subfolder in image_subfolders]"
      ]
    },
    {
      "cell_type": "code",
      "execution_count": null,
      "metadata": {
        "id": "IiiHqz2udVLc"
      },
      "outputs": [],
      "source": [
        "!zip -r /content/train.zip /content/data/train"
      ]
    }
  ],
  "metadata": {
    "accelerator": "GPU",
    "colab": {
      "gpuType": "T4",
      "provenance": [],
      "toc_visible": true
    },
    "kernelspec": {
      "display_name": "Python 3",
      "name": "python3"
    },
    "language_info": {
      "name": "python"
    },
    "widgets": {
      "application/vnd.jupyter.widget-state+json": {
        "097a1edb6a2c4f07ac07554a44720b8a": {
          "model_module": "@jupyter-widgets/base",
          "model_module_version": "1.2.0",
          "model_name": "LayoutModel",
          "state": {
            "_model_module": "@jupyter-widgets/base",
            "_model_module_version": "1.2.0",
            "_model_name": "LayoutModel",
            "_view_count": null,
            "_view_module": "@jupyter-widgets/base",
            "_view_module_version": "1.2.0",
            "_view_name": "LayoutView",
            "align_content": null,
            "align_items": null,
            "align_self": null,
            "border": null,
            "bottom": null,
            "display": null,
            "flex": null,
            "flex_flow": null,
            "grid_area": null,
            "grid_auto_columns": null,
            "grid_auto_flow": null,
            "grid_auto_rows": null,
            "grid_column": null,
            "grid_gap": null,
            "grid_row": null,
            "grid_template_areas": null,
            "grid_template_columns": null,
            "grid_template_rows": null,
            "height": null,
            "justify_content": null,
            "justify_items": null,
            "left": null,
            "margin": null,
            "max_height": null,
            "max_width": null,
            "min_height": null,
            "min_width": null,
            "object_fit": null,
            "object_position": null,
            "order": null,
            "overflow": null,
            "overflow_x": null,
            "overflow_y": null,
            "padding": null,
            "right": null,
            "top": null,
            "visibility": null,
            "width": null
          }
        },
        "14ef5ea94100491883764f8120333423": {
          "model_module": "@jupyter-widgets/controls",
          "model_module_version": "1.5.0",
          "model_name": "DescriptionStyleModel",
          "state": {
            "_model_module": "@jupyter-widgets/controls",
            "_model_module_version": "1.5.0",
            "_model_name": "DescriptionStyleModel",
            "_view_count": null,
            "_view_module": "@jupyter-widgets/base",
            "_view_module_version": "1.2.0",
            "_view_name": "StyleView",
            "description_width": ""
          }
        },
        "1f9e767f5dbe4ff584aac8830e383975": {
          "model_module": "@jupyter-widgets/controls",
          "model_module_version": "1.5.0",
          "model_name": "DescriptionStyleModel",
          "state": {
            "_model_module": "@jupyter-widgets/controls",
            "_model_module_version": "1.5.0",
            "_model_name": "DescriptionStyleModel",
            "_view_count": null,
            "_view_module": "@jupyter-widgets/base",
            "_view_module_version": "1.2.0",
            "_view_name": "StyleView",
            "description_width": ""
          }
        },
        "405120281d4a4d13b060d39f0857d16b": {
          "model_module": "@jupyter-widgets/base",
          "model_module_version": "1.2.0",
          "model_name": "LayoutModel",
          "state": {
            "_model_module": "@jupyter-widgets/base",
            "_model_module_version": "1.2.0",
            "_model_name": "LayoutModel",
            "_view_count": null,
            "_view_module": "@jupyter-widgets/base",
            "_view_module_version": "1.2.0",
            "_view_name": "LayoutView",
            "align_content": null,
            "align_items": null,
            "align_self": null,
            "border": null,
            "bottom": null,
            "display": null,
            "flex": null,
            "flex_flow": null,
            "grid_area": null,
            "grid_auto_columns": null,
            "grid_auto_flow": null,
            "grid_auto_rows": null,
            "grid_column": null,
            "grid_gap": null,
            "grid_row": null,
            "grid_template_areas": null,
            "grid_template_columns": null,
            "grid_template_rows": null,
            "height": null,
            "justify_content": null,
            "justify_items": null,
            "left": null,
            "margin": null,
            "max_height": null,
            "max_width": null,
            "min_height": null,
            "min_width": null,
            "object_fit": null,
            "object_position": null,
            "order": null,
            "overflow": null,
            "overflow_x": null,
            "overflow_y": null,
            "padding": null,
            "right": null,
            "top": null,
            "visibility": null,
            "width": null
          }
        },
        "44e9b8c7166f4ef1ae6d7f730f37d02b": {
          "model_module": "@jupyter-widgets/controls",
          "model_module_version": "1.5.0",
          "model_name": "ProgressStyleModel",
          "state": {
            "_model_module": "@jupyter-widgets/controls",
            "_model_module_version": "1.5.0",
            "_model_name": "ProgressStyleModel",
            "_view_count": null,
            "_view_module": "@jupyter-widgets/base",
            "_view_module_version": "1.2.0",
            "_view_name": "StyleView",
            "bar_color": null,
            "description_width": ""
          }
        },
        "459b95e12a0944b9bcf1c1cd970adbf8": {
          "model_module": "@jupyter-widgets/controls",
          "model_module_version": "1.5.0",
          "model_name": "HTMLModel",
          "state": {
            "_dom_classes": [],
            "_model_module": "@jupyter-widgets/controls",
            "_model_module_version": "1.5.0",
            "_model_name": "HTMLModel",
            "_view_count": null,
            "_view_module": "@jupyter-widgets/controls",
            "_view_module_version": "1.5.0",
            "_view_name": "HTMLView",
            "description": "",
            "description_tooltip": null,
            "layout": "IPY_MODEL_097a1edb6a2c4f07ac07554a44720b8a",
            "placeholder": "​",
            "style": "IPY_MODEL_1f9e767f5dbe4ff584aac8830e383975",
            "value": "100%"
          }
        },
        "bf48a08c0cc64219b5c92bdea5a3e77a": {
          "model_module": "@jupyter-widgets/controls",
          "model_module_version": "1.5.0",
          "model_name": "FloatProgressModel",
          "state": {
            "_dom_classes": [],
            "_model_module": "@jupyter-widgets/controls",
            "_model_module_version": "1.5.0",
            "_model_name": "FloatProgressModel",
            "_view_count": null,
            "_view_module": "@jupyter-widgets/controls",
            "_view_module_version": "1.5.0",
            "_view_name": "ProgressView",
            "bar_style": "success",
            "description": "",
            "description_tooltip": null,
            "layout": "IPY_MODEL_ecbfc08f4929441084d304477e2e9069",
            "max": 1,
            "min": 0,
            "orientation": "horizontal",
            "style": "IPY_MODEL_44e9b8c7166f4ef1ae6d7f730f37d02b",
            "value": 1
          }
        },
        "c5ae910802464bfbb00d5d93da2b8004": {
          "model_module": "@jupyter-widgets/base",
          "model_module_version": "1.2.0",
          "model_name": "LayoutModel",
          "state": {
            "_model_module": "@jupyter-widgets/base",
            "_model_module_version": "1.2.0",
            "_model_name": "LayoutModel",
            "_view_count": null,
            "_view_module": "@jupyter-widgets/base",
            "_view_module_version": "1.2.0",
            "_view_name": "LayoutView",
            "align_content": null,
            "align_items": null,
            "align_self": null,
            "border": null,
            "bottom": null,
            "display": null,
            "flex": null,
            "flex_flow": null,
            "grid_area": null,
            "grid_auto_columns": null,
            "grid_auto_flow": null,
            "grid_auto_rows": null,
            "grid_column": null,
            "grid_gap": null,
            "grid_row": null,
            "grid_template_areas": null,
            "grid_template_columns": null,
            "grid_template_rows": null,
            "height": null,
            "justify_content": null,
            "justify_items": null,
            "left": null,
            "margin": null,
            "max_height": null,
            "max_width": null,
            "min_height": null,
            "min_width": null,
            "object_fit": null,
            "object_position": null,
            "order": null,
            "overflow": null,
            "overflow_x": null,
            "overflow_y": null,
            "padding": null,
            "right": null,
            "top": null,
            "visibility": null,
            "width": null
          }
        },
        "dd67c225a01f406f87b695b949b90db4": {
          "model_module": "@jupyter-widgets/controls",
          "model_module_version": "1.5.0",
          "model_name": "HTMLModel",
          "state": {
            "_dom_classes": [],
            "_model_module": "@jupyter-widgets/controls",
            "_model_module_version": "1.5.0",
            "_model_name": "HTMLModel",
            "_view_count": null,
            "_view_module": "@jupyter-widgets/controls",
            "_view_module_version": "1.5.0",
            "_view_name": "HTMLView",
            "description": "",
            "description_tooltip": null,
            "layout": "IPY_MODEL_405120281d4a4d13b060d39f0857d16b",
            "placeholder": "​",
            "style": "IPY_MODEL_14ef5ea94100491883764f8120333423",
            "value": " 1/1 [00:17&lt;00:00, 17.95s/it]"
          }
        },
        "e651cef131684828b75af9d0c46808b4": {
          "model_module": "@jupyter-widgets/controls",
          "model_module_version": "1.5.0",
          "model_name": "HBoxModel",
          "state": {
            "_dom_classes": [],
            "_model_module": "@jupyter-widgets/controls",
            "_model_module_version": "1.5.0",
            "_model_name": "HBoxModel",
            "_view_count": null,
            "_view_module": "@jupyter-widgets/controls",
            "_view_module_version": "1.5.0",
            "_view_name": "HBoxView",
            "box_style": "",
            "children": [
              "IPY_MODEL_459b95e12a0944b9bcf1c1cd970adbf8",
              "IPY_MODEL_bf48a08c0cc64219b5c92bdea5a3e77a",
              "IPY_MODEL_dd67c225a01f406f87b695b949b90db4"
            ],
            "layout": "IPY_MODEL_c5ae910802464bfbb00d5d93da2b8004"
          }
        },
        "ecbfc08f4929441084d304477e2e9069": {
          "model_module": "@jupyter-widgets/base",
          "model_module_version": "1.2.0",
          "model_name": "LayoutModel",
          "state": {
            "_model_module": "@jupyter-widgets/base",
            "_model_module_version": "1.2.0",
            "_model_name": "LayoutModel",
            "_view_count": null,
            "_view_module": "@jupyter-widgets/base",
            "_view_module_version": "1.2.0",
            "_view_name": "LayoutView",
            "align_content": null,
            "align_items": null,
            "align_self": null,
            "border": null,
            "bottom": null,
            "display": null,
            "flex": null,
            "flex_flow": null,
            "grid_area": null,
            "grid_auto_columns": null,
            "grid_auto_flow": null,
            "grid_auto_rows": null,
            "grid_column": null,
            "grid_gap": null,
            "grid_row": null,
            "grid_template_areas": null,
            "grid_template_columns": null,
            "grid_template_rows": null,
            "height": null,
            "justify_content": null,
            "justify_items": null,
            "left": null,
            "margin": null,
            "max_height": null,
            "max_width": null,
            "min_height": null,
            "min_width": null,
            "object_fit": null,
            "object_position": null,
            "order": null,
            "overflow": null,
            "overflow_x": null,
            "overflow_y": null,
            "padding": null,
            "right": null,
            "top": null,
            "visibility": null,
            "width": null
          }
        }
      }
    }
  },
  "nbformat": 4,
  "nbformat_minor": 0
}
